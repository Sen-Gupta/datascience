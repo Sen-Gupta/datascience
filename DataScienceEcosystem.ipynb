{
 "cells": [
  {
   "cell_type": "markdown",
   "id": "211f666e-425c-4cf5-8ef3-7f7933462bf3",
   "metadata": {},
   "source": [
    "# Data Science Tools and Ecosystem"
   ]
  },
  {
   "cell_type": "markdown",
   "id": "b830563f-37b0-4218-b646-6b10371e9ecc",
   "metadata": {},
   "source": [
    "In this notebook, Data Science Tools and Ecosystem are summarized."
   ]
  },
  {
   "cell_type": "markdown",
   "id": "daee92e8-94ae-4b03-b39b-6d754c4d6c40",
   "metadata": {},
   "source": [
    "Some of the popular languages that Data Scientists use are:\n",
    "\n",
    "1. Python\n",
    "2. R\n",
    "3. Scala\n"
   ]
  },
  {
   "cell_type": "markdown",
   "id": "309c1d99-c1e8-4005-866e-c3cafd35477a",
   "metadata": {},
   "source": [
    "Some of the commonly used libraries used by Data Scientists include:\n",
    "1. Pandas\n",
    "2. NumPy\n",
    "3. Tenserflow"
   ]
  },
  {
   "cell_type": "markdown",
   "id": "16a09d98-da7a-48f5-8ede-833d7ad2e8ef",
   "metadata": {},
   "source": [
    "| Data Science Tools |\n",
    "|---------------|\n",
    "| Jupyter Notebook |\n",
    "| RStudio |\n",
    "| Apache Zeppelin |"
   ]
  },
  {
   "cell_type": "markdown",
   "id": "bb7f778d-f1b6-4813-9b02-89754580b278",
   "metadata": {},
   "source": [
    "### Below are a few examples of evaluating arithmetic expressions in Python"
   ]
  },
  {
   "cell_type": "code",
   "execution_count": 6,
   "id": "74da51a5-1996-4c34-934c-191e8d0ef4a5",
   "metadata": {},
   "outputs": [
    {
     "data": {
      "text/plain": [
       "17"
      ]
     },
     "execution_count": 6,
     "metadata": {},
     "output_type": "execute_result"
    }
   ],
   "source": [
    "# This a simple arithmetic expression to mutiply then add integers\n",
    "(3 * 4) + 5"
   ]
  },
  {
   "cell_type": "code",
   "execution_count": 5,
   "id": "a9e58ce1-40f9-418a-b970-1ca68840d683",
   "metadata": {},
   "outputs": [
    {
     "data": {
      "text/plain": [
       "3.3333333333333335"
      ]
     },
     "execution_count": 5,
     "metadata": {},
     "output_type": "execute_result"
    }
   ],
   "source": [
    "#This will convert 200 minutes to hours by diving by 60\n",
    "200 / 60"
   ]
  },
  {
   "cell_type": "markdown",
   "id": "d65edd37-ea1e-46ac-8d33-703f4b3f77ee",
   "metadata": {},
   "source": [
    "**Objectives:**\n",
    "- List popular languages for Data Science\n",
    "- Identify common libraries used in Data Science\n",
    "- Describe key tools and environments for Data Science\n",
    "- Demonstrate basic arithmetic operations in Python\n",
    "- Understand data manipulation and visualization conceptsList popular languages for Data Science\n",
    "- Identify common libraries used in Data Science\n",
    "- Describe key tools and environments for Data Science\n",
    "- Demonstrate basic arithmetic operations in Python\n",
    "- Understand data manipulation and visualization concepts\n"
   ]
  },
  {
   "cell_type": "markdown",
   "id": "2d9dbadd-aa05-455c-b368-2169cbca7528",
   "metadata": {},
   "source": [
    "## Author\n",
    "Sen Gupta"
   ]
  },
  {
   "cell_type": "code",
   "execution_count": null,
   "id": "693cb42f-a071-4cd9-84a5-fd76ec3ca869",
   "metadata": {},
   "outputs": [],
   "source": []
  }
 ],
 "metadata": {
  "kernelspec": {
   "display_name": "Python 3 (ipykernel)",
   "language": "python",
   "name": "python3"
  },
  "language_info": {
   "codemirror_mode": {
    "name": "ipython",
    "version": 3
   },
   "file_extension": ".py",
   "mimetype": "text/x-python",
   "name": "python",
   "nbconvert_exporter": "python",
   "pygments_lexer": "ipython3",
   "version": "3.11.9"
  }
 },
 "nbformat": 4,
 "nbformat_minor": 5
}
